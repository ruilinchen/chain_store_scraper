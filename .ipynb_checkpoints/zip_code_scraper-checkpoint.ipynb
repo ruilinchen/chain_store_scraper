{
 "cells": [
  {
   "cell_type": "code",
   "execution_count": 7,
   "metadata": {},
   "outputs": [],
   "source": [
    "import requests\n",
    "from bs4 import BeautifulSoup\n",
    "import os\n"
   ]
  },
  {
   "cell_type": "code",
   "execution_count": 21,
   "metadata": {},
   "outputs": [],
   "source": [
    "city = 'seattle'\n",
    "state = 'washington'\n",
    "country = 'united states'\n",
    "\n",
    "def get_url_path(country, state, city):\n",
    "    region_list = []\n",
    "    for name in [country, state, city]:\n",
    "        ## reformat the region name: replace \" \" with \"-\"\n",
    "        name_str = '-'.join(name.split(' '))\n",
    "        region_list.append(name_str)\n",
    "    assert len(region_list) == 3\n",
    "    url_str = 'https://worldpostalcode.com/{}/{}/{}'.format(region_list[0], region_list[1], region_list[2])\n",
    "    return url_str\n",
    "\n",
    "def request_page(url):\n",
    "    res = requests.get(url)\n",
    "    html_page = res.content\n",
    "    return html_page\n",
    "\n",
    "def extract_zip_codes(html_page):\n",
    "    soup = BeautifulSoup(html_page, 'html.parser')\n",
    "    code_element = soup.find('div', {'class': 'code'})\n",
    "    zip_code_elements = code_element.find_all('span', text=True)\n",
    "    zip_code_list = [zip_code_element.text for zip_code_element in zip_code_elements]\n",
    "    return  zip_code_list\n",
    "\n",
    "def write_output_to_file(country, state, city, zip_code_list):\n",
    "    with open('zip_codes_in_the_world.csv', 'a+') as f:\n",
    "        for zip_code in zip_code_list:\n",
    "            f.write(\",\".join([country, state, city, zip_code]))\n",
    "            f.write('\\n')"
   ]
  },
  {
   "cell_type": "code",
   "execution_count": 9,
   "metadata": {},
   "outputs": [],
   "source": [
    "city = 'seattle'\n",
    "state = 'washington'\n",
    "country = 'united states'\n",
    "\n",
    "url = get_url_path(country, state, city)\n",
    "html_page = request_page(url)\n",
    "code_list = extract_zip_codes(html_page)\n",
    "assert len(code_list) > 0\n",
    "\n"
   ]
  },
  {
   "cell_type": "code",
   "execution_count": 22,
   "metadata": {},
   "outputs": [],
   "source": [
    "code_list = extract_zip_codes(html_page)"
   ]
  },
  {
   "cell_type": "code",
   "execution_count": null,
   "metadata": {},
   "outputs": [],
   "source": []
  }
 ],
 "metadata": {
  "kernelspec": {
   "display_name": "Python 3",
   "language": "python",
   "name": "python3"
  },
  "language_info": {
   "codemirror_mode": {
    "name": "ipython",
    "version": 3
   },
   "file_extension": ".py",
   "mimetype": "text/x-python",
   "name": "python",
   "nbconvert_exporter": "python",
   "pygments_lexer": "ipython3",
   "version": "3.7.4"
  }
 },
 "nbformat": 4,
 "nbformat_minor": 2
}
